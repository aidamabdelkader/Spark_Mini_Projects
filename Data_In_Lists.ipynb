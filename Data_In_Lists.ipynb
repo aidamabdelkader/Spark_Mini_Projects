{
 "cells": [
  {
   "cell_type": "markdown",
   "id": "lovely-working",
   "metadata": {},
   "source": [
    "## Lab 4 Practice - \n",
    "- Create a spark session, with the local as master and allocate as many cores as possible(tip: use setMaster attribute)\n",
    "- Create an rdd with the movies list, partition the rdd into 10 partitions).\n",
    "- Create an rdd with the movies_directors list, partition the rdd into 8 partitions.\n",
    "- Perform the following on the movies rdd, each should result in a new rdd.\n",
    "    - get the strings with that has less than 10 characters, print out the new rdd.\n",
    "    - extract each word seperately and place them all in one rdd(tip: split each element when a space is present), print out the new rdd.\n",
    "    - sort by alphabetical order, print out the first two only.\n",
    "    - count the occurences of each value, print the result. \n",
    "- Perform the following on the movies_directors rdd\n",
    "    - Sort by the name of the director(the second element of each list).\n",
    "    - How many distinct directors name are there? "
   ]
  },
  {
   "cell_type": "code",
   "execution_count": 9,
   "id": "painted-battlefield",
   "metadata": {
    "ExecuteTime": {
     "end_time": "2024-02-01T10:34:25.399263Z",
     "start_time": "2024-02-01T10:34:25.386340Z"
    }
   },
   "outputs": [],
   "source": [
    "movies = ['Inception','Pulp fiction','The hateful eight','About time',\\\n",
    "          'The big short','Margin call']\n",
    "movies_directors = [('Inception','Nolan'),('Pulp fiction','Tarantino'),\\\n",
    "                    ('The hateful eight','Tarantino'),('About time','Mark')]"
   ]
  },
  {
   "cell_type": "code",
   "execution_count": 3,
   "id": "annoying-pierre",
   "metadata": {
    "ExecuteTime": {
     "end_time": "2024-02-01T10:32:05.929242Z",
     "start_time": "2024-02-01T10:32:05.921528Z"
    }
   },
   "outputs": [],
   "source": [
    "from pyspark import SparkContext\n",
    "from pyspark.sql import SparkSession"
   ]
  },
  {
   "cell_type": "code",
   "execution_count": 4,
   "id": "conditional-adapter",
   "metadata": {
    "ExecuteTime": {
     "end_time": "2024-02-01T10:32:29.395088Z",
     "start_time": "2024-02-01T10:32:07.068502Z"
    }
   },
   "outputs": [],
   "source": [
    "### creating the spark session with the local as master and allocating as many cores\n",
    "spark = SparkSession.builder \\\n",
    "        .appName(\"Movies_Data\") \\\n",
    "        .master(\"local[*]\") \\\n",
    "        .getOrCreate()\n",
    "\n",
    "# setting the local master with many cores as available indicating by *\n"
   ]
  },
  {
   "cell_type": "code",
   "execution_count": 11,
   "id": "plastic-legislation",
   "metadata": {
    "ExecuteTime": {
     "end_time": "2024-02-01T10:34:38.874685Z",
     "start_time": "2024-02-01T10:34:38.849676Z"
    }
   },
   "outputs": [],
   "source": [
    "## transforming the movies list into Rdd and rename as movies_rdd, partitioning over 10 partitions\n",
    "movies_rdd = spark.sparkContext.parallelize(movies,numSlices=10)\n"
   ]
  },
  {
   "cell_type": "code",
   "execution_count": 13,
   "id": "intense-doubt",
   "metadata": {
    "ExecuteTime": {
     "end_time": "2024-02-01T10:40:16.622196Z",
     "start_time": "2024-02-01T10:40:09.470805Z"
    }
   },
   "outputs": [
    {
     "name": "stdout",
     "output_type": "stream",
     "text": [
      "Movies in RDD: ['Inception', 'Pulp fiction', 'The hateful eight', 'About time', 'The big short', 'Margin call']\n"
     ]
    }
   ],
   "source": [
    "\n",
    "collected_movies = movies_rdd.collect()\n",
    "print(\"Movies in RDD:\", collected_movies)\n"
   ]
  },
  {
   "cell_type": "code",
   "execution_count": 12,
   "id": "reasonable-fighter",
   "metadata": {
    "ExecuteTime": {
     "end_time": "2024-02-01T10:35:21.230224Z",
     "start_time": "2024-02-01T10:35:21.195181Z"
    }
   },
   "outputs": [],
   "source": [
    "## transforming the movies directors into Rdd and rename as movies_directors_rdd , partitioning over 8 partitions\n",
    "movies_directors_rdd = spark.sparkContext.parallelize(movies_directors, numSlices=8)"
   ]
  },
  {
   "cell_type": "code",
   "execution_count": 15,
   "id": "necessary-switzerland",
   "metadata": {
    "ExecuteTime": {
     "end_time": "2024-02-01T10:45:14.230986Z",
     "start_time": "2024-02-01T10:45:10.642435Z"
    }
   },
   "outputs": [
    {
     "name": "stdout",
     "output_type": "stream",
     "text": [
      "Filtered RDD:\n",
      "Inception\n"
     ]
    }
   ],
   "source": [
    "### filtering for strings less than 10 characters \n",
    "filtered_rdd = movies_rdd.filter(lambda x: len(x) < 10)\n",
    "\n",
    "# Print the new RDD\n",
    "print(\"Filtered RDD:\")\n",
    "for movie in filtered_rdd.collect():\n",
    "    print(movie)\n"
   ]
  },
  {
   "cell_type": "code",
   "execution_count": 16,
   "id": "patent-reply",
   "metadata": {
    "ExecuteTime": {
     "end_time": "2024-02-01T10:46:16.124543Z",
     "start_time": "2024-02-01T10:46:15.397522Z"
    }
   },
   "outputs": [
    {
     "name": "stdout",
     "output_type": "stream",
     "text": [
      "Words RDD:\n",
      "Inception\n",
      "Pulp\n",
      "fiction\n",
      "The\n",
      "hateful\n",
      "eight\n",
      "About\n",
      "time\n",
      "The\n",
      "big\n",
      "short\n",
      "Margin\n",
      "call\n"
     ]
    }
   ],
   "source": [
    "## Extracting each word seperately & placing each of them into seperate RDD \n",
    "words_rdd = movies_rdd.flatMap(lambda movie: movie.split(\" \"))\n",
    "\n",
    "# Print the new RDD\n",
    "print(\"Words RDD:\")\n",
    "for word in words_rdd.collect():\n",
    "    print(word)\n"
   ]
  },
  {
   "cell_type": "code",
   "execution_count": 17,
   "id": "favorite-price",
   "metadata": {
    "ExecuteTime": {
     "end_time": "2024-02-01T10:47:56.195847Z",
     "start_time": "2024-02-01T10:47:48.888623Z"
    }
   },
   "outputs": [
    {
     "name": "stdout",
     "output_type": "stream",
     "text": [
      "First two words in alphabetical order:\n",
      "About\n",
      "Inception\n"
     ]
    }
   ],
   "source": [
    "## sorting alphabetically \n",
    "\n",
    "\n",
    "sorted_words_rdd = movies_rdd.sortBy(lambda x: x) \n",
    "\n",
    "\n",
    "print(\"First two words in alphabetical order:\")\n",
    "for word in sorted_words_rdd.take(2): ## showing the first 2 words only\n",
    "    print(word)\n"
   ]
  },
  {
   "cell_type": "code",
   "execution_count": 18,
   "id": "chronic-command",
   "metadata": {
    "ExecuteTime": {
     "end_time": "2024-02-01T10:48:29.685841Z",
     "start_time": "2024-02-01T10:48:28.652280Z"
    }
   },
   "outputs": [
    {
     "name": "stdout",
     "output_type": "stream",
     "text": [
      "\n",
      "Word counts:\n",
      "Inception: 1\n",
      "Pulp: 1\n",
      "fiction: 1\n",
      "The: 2\n",
      "hateful: 1\n",
      "eight: 1\n",
      "About: 1\n",
      "time: 1\n",
      "big: 1\n",
      "short: 1\n",
      "Margin: 1\n",
      "call: 1\n"
     ]
    }
   ],
   "source": [
    "## counting each word frequnecy \n",
    "word_counts = movies_rdd.countByValue()\n",
    "\n",
    "print(\"\\nWord counts:\")\n",
    "for word, count in word_counts.items():\n",
    "    print(f\"{word}: {count}\")\n"
   ]
  },
  {
   "cell_type": "code",
   "execution_count": 20,
   "id": "modified-forward",
   "metadata": {
    "ExecuteTime": {
     "end_time": "2024-02-01T10:53:19.580100Z",
     "start_time": "2024-02-01T10:53:15.345559Z"
    }
   },
   "outputs": [
    {
     "name": "stdout",
     "output_type": "stream",
     "text": [
      "Sorted RDD by director name:\n",
      "('About time', 'Mark')\n",
      "('Inception', 'Nolan')\n",
      "('Pulp fiction', 'Tarantino')\n",
      "('The hateful eight', 'Tarantino')\n"
     ]
    }
   ],
   "source": [
    "### sorting the movies directors by their names\n",
    "# Sort the RDD by the name of the director\n",
    "sorted_directors_rdd = movies_directors_rdd.sortBy(lambda x: x[1])\n",
    "\n",
    "\n",
    "print(\"Sorted RDD by director name:\")\n",
    "for movie_director in sorted_directors_rdd.collect():\n",
    "    print(movie_director)"
   ]
  },
  {
   "cell_type": "code",
   "execution_count": 21,
   "id": "excess-assault",
   "metadata": {
    "ExecuteTime": {
     "end_time": "2024-02-01T10:53:24.131724Z",
     "start_time": "2024-02-01T10:53:22.930794Z"
    }
   },
   "outputs": [
    {
     "name": "stdout",
     "output_type": "stream",
     "text": [
      "\n",
      "Number of distinct directors: 3\n"
     ]
    }
   ],
   "source": [
    "## counting the distinct names by each director\n",
    "distinct_directors_count = movies_directors_rdd.map(lambda x: x[1]).distinct().count()\n",
    "\n",
    "# Print the count of distinct directors\n",
    "print(\"\\nNumber of distinct directors:\", distinct_directors_count)\n"
   ]
  },
  {
   "cell_type": "code",
   "execution_count": null,
   "id": "civilian-stress",
   "metadata": {
    "ExecuteTime": {
     "end_time": "2024-02-01T10:26:46.684447Z",
     "start_time": "2024-02-01T10:26:46.669242Z"
    }
   },
   "outputs": [],
   "source": []
  },
  {
   "cell_type": "code",
   "execution_count": null,
   "id": "electrical-muslim",
   "metadata": {},
   "outputs": [],
   "source": []
  }
 ],
 "metadata": {
  "kernelspec": {
   "display_name": "Python 3",
   "language": "python",
   "name": "python3"
  },
  "language_info": {
   "codemirror_mode": {
    "name": "ipython",
    "version": 3
   },
   "file_extension": ".py",
   "mimetype": "text/x-python",
   "name": "python",
   "nbconvert_exporter": "python",
   "pygments_lexer": "ipython3",
   "version": "3.8.5"
  },
  "toc": {
   "base_numbering": 1,
   "nav_menu": {},
   "number_sections": true,
   "sideBar": true,
   "skip_h1_title": false,
   "title_cell": "Table of Contents",
   "title_sidebar": "Contents",
   "toc_cell": false,
   "toc_position": {},
   "toc_section_display": true,
   "toc_window_display": false
  }
 },
 "nbformat": 4,
 "nbformat_minor": 5
}
