{
 "cells": [
  {
   "cell_type": "code",
   "execution_count": 1,
   "id": "referenced-honey",
   "metadata": {
    "ExecuteTime": {
     "end_time": "2024-02-01T11:59:24.087966Z",
     "start_time": "2024-02-01T11:59:22.879166Z"
    }
   },
   "outputs": [],
   "source": [
    "from pyspark import SparkConf, SparkContext\n",
    "from pyspark.sql import SparkSession\n",
    "import pandas as pd"
   ]
  },
  {
   "cell_type": "code",
   "execution_count": 2,
   "id": "gorgeous-filing",
   "metadata": {
    "ExecuteTime": {
     "end_time": "2024-02-01T11:59:44.842084Z",
     "start_time": "2024-02-01T11:59:25.445982Z"
    }
   },
   "outputs": [],
   "source": [
    "spark = (SparkSession\n",
    "    .builder\n",
    "    .appName(\"Netflix Data Analysis\")\n",
    "    .master(\"local[*]\")\n",
    "    .getOrCreate()\n",
    ")\n",
    "sc = spark.sparkContext"
   ]
  },
  {
   "cell_type": "code",
   "execution_count": 3,
   "id": "outdoor-annex",
   "metadata": {
    "ExecuteTime": {
     "end_time": "2024-02-01T12:00:08.283975Z",
     "start_time": "2024-02-01T11:59:46.371842Z"
    }
   },
   "outputs": [],
   "source": [
    "Netflix_Data = spark.read.options(header='True',inferSchema='True') \\\n",
    "  .csv(\"netflix-titles.csv\")"
   ]
  },
  {
   "cell_type": "code",
   "execution_count": 4,
   "id": "transparent-amateur",
   "metadata": {
    "ExecuteTime": {
     "end_time": "2024-02-01T11:48:42.514738Z",
     "start_time": "2024-02-01T11:48:40.088184Z"
    }
   },
   "outputs": [
    {
     "name": "stdout",
     "output_type": "stream",
     "text": [
      "+-------+-------+--------------------+--------------------+--------------------+--------------------+------------------+------------+------+---------+--------------------+--------------------+\n",
      "|show_id|   type|               title|            director|                cast|             country|        date_added|release_year|rating| duration|           listed_in|         description|\n",
      "+-------+-------+--------------------+--------------------+--------------------+--------------------+------------------+------------+------+---------+--------------------+--------------------+\n",
      "|     s1|  Movie|Dick Johnson Is Dead|     Kirsten Johnson|                null|       United States|September 25, 2021|        2020| PG-13|   90 min|       Documentaries|As her father nea...|\n",
      "|     s2|TV Show|       Blood & Water|                null|Ama Qamata, Khosi...|        South Africa|September 24, 2021|        2021| TV-MA|2 Seasons|International TV ...|After crossing pa...|\n",
      "|     s3|TV Show|           Ganglands|     Julien Leclercq|Sami Bouajila, Tr...|                null|September 24, 2021|        2021| TV-MA| 1 Season|Crime TV Shows, I...|To protect his fa...|\n",
      "|     s4|TV Show|Jailbirds New Orl...|                null|                null|                null|September 24, 2021|        2021| TV-MA| 1 Season|Docuseries, Reali...|Feuds, flirtation...|\n",
      "|     s5|TV Show|        Kota Factory|                null|Mayur More, Jiten...|               India|September 24, 2021|        2021| TV-MA|2 Seasons|International TV ...|In a city of coac...|\n",
      "|     s6|TV Show|       Midnight Mass|       Mike Flanagan|Kate Siegel, Zach...|                null|September 24, 2021|        2021| TV-MA| 1 Season|TV Dramas, TV Hor...|The arrival of a ...|\n",
      "|     s7|  Movie|My Little Pony: A...|Robert Cullen, Jo...|Vanessa Hudgens, ...|                null|September 24, 2021|        2021|    PG|   91 min|Children & Family...|Equestria's divid...|\n",
      "|     s8|  Movie|             Sankofa|        Haile Gerima|Kofi Ghanaba, Oya...|United States, Gh...|September 24, 2021|        1993| TV-MA|  125 min|Dramas, Independe...|On a photo shoot ...|\n",
      "|     s9|TV Show|The Great British...|     Andy Devonshire|Mel Giedroyc, Sue...|      United Kingdom|September 24, 2021|        2021| TV-14|9 Seasons|British TV Shows,...|A talented batch ...|\n",
      "|    s10|  Movie|        The Starling|      Theodore Melfi|Melissa McCarthy,...|       United States|September 24, 2021|        2021| PG-13|  104 min|    Comedies, Dramas|A woman adjusting...|\n",
      "|    s11|TV Show|Vendetta: Truth, ...|                null|                null|                null|September 24, 2021|        2021| TV-MA| 1 Season|Crime TV Shows, D...|\"Sicily boasts a ...|\n",
      "|    s12|TV Show|    Bangkok Breaking|   Kongkiat Komesiri|Sukollawat Kanaro...|                null|September 23, 2021|        2021| TV-MA| 1 Season|Crime TV Shows, I...|Struggling to ear...|\n",
      "|    s13|  Movie|        Je Suis Karl| Christian Schwochow|Luna Wedler, Jann...|Germany, Czech Re...|September 23, 2021|        2021| TV-MA|  127 min|Dramas, Internati...|After most of her...|\n",
      "|    s14|  Movie|Confessions of an...|       Bruno Garotti|Klara Castanho, L...|                null|September 22, 2021|        2021| TV-PG|   91 min|Children & Family...|When the clever b...|\n",
      "|    s15|TV Show|Crime Stories: In...|                null|                null|                null|September 22, 2021|        2021| TV-MA| 1 Season|British TV Shows,...|Cameras following...|\n",
      "|    s16|TV Show|   Dear White People|                null|Logan Browning, B...|       United States|September 22, 2021|        2021| TV-MA|4 Seasons|TV Comedies, TV D...|\"Students of colo...|\n",
      "|    s17|  Movie|Europe's Most Dan...|Pedro de Echave G...|                null|                null|September 22, 2021|        2020| TV-MA|   67 min|Documentaries, In...|Declassified docu...|\n",
      "|    s18|TV Show|     Falsa identidad|                null|Luis Ernesto Fran...|              Mexico|September 22, 2021|        2020| TV-MA|2 Seasons|Crime TV Shows, S...|Strangers Diego a...|\n",
      "|    s19|  Movie|           Intrusion|          Adam Salky|Freida Pinto, Log...|                null|September 22, 2021|        2021| TV-14|   94 min|           Thrillers|After a deadly ho...|\n",
      "|    s20|TV Show|              Jaguar|                null|Blanca Suárez, Iv...|                null|September 22, 2021|        2021| TV-MA| 1 Season|International TV ...|In the 1960s, a H...|\n",
      "+-------+-------+--------------------+--------------------+--------------------+--------------------+------------------+------------+------+---------+--------------------+--------------------+\n",
      "only showing top 20 rows\n",
      "\n"
     ]
    }
   ],
   "source": [
    "Netflix_Data.show()"
   ]
  },
  {
   "cell_type": "code",
   "execution_count": 4,
   "id": "hawaiian-shareware",
   "metadata": {
    "ExecuteTime": {
     "end_time": "2024-02-01T12:00:12.428154Z",
     "start_time": "2024-02-01T12:00:11.571029Z"
    }
   },
   "outputs": [],
   "source": [
    "# transfering the data frame to have a temporary table\n",
    "Netflix_Data.createOrReplaceTempView(\"netflix_table\")"
   ]
  },
  {
   "cell_type": "code",
   "execution_count": 6,
   "id": "comparable-raise",
   "metadata": {
    "ExecuteTime": {
     "end_time": "2024-02-01T11:48:49.984743Z",
     "start_time": "2024-02-01T11:48:49.182878Z"
    }
   },
   "outputs": [],
   "source": [
    "## sorting the netflix data alphabitcally \n",
    "sorted_netflix = spark.sql(\"SELECT * FROM netflix_table ORDER BY title\")\n"
   ]
  },
  {
   "cell_type": "code",
   "execution_count": 28,
   "id": "young-promotion",
   "metadata": {
    "ExecuteTime": {
     "end_time": "2024-02-01T11:31:24.210833Z",
     "start_time": "2024-02-01T11:31:18.103796Z"
    }
   },
   "outputs": [],
   "source": [
    "sorted_netflix_pandas = sorted_netflix.toPandas() ## transforing the sorted netflix data into pandas"
   ]
  },
  {
   "cell_type": "code",
   "execution_count": 29,
   "id": "fallen-nigeria",
   "metadata": {
    "ExecuteTime": {
     "end_time": "2024-02-01T11:31:41.564138Z",
     "start_time": "2024-02-01T11:31:41.445040Z"
    }
   },
   "outputs": [
    {
     "data": {
      "text/html": [
       "<div>\n",
       "<style scoped>\n",
       "    .dataframe tbody tr th:only-of-type {\n",
       "        vertical-align: middle;\n",
       "    }\n",
       "\n",
       "    .dataframe tbody tr th {\n",
       "        vertical-align: top;\n",
       "    }\n",
       "\n",
       "    .dataframe thead th {\n",
       "        text-align: right;\n",
       "    }\n",
       "</style>\n",
       "<table border=\"1\" class=\"dataframe\">\n",
       "  <thead>\n",
       "    <tr style=\"text-align: right;\">\n",
       "      <th></th>\n",
       "      <th>show_id</th>\n",
       "      <th>type</th>\n",
       "      <th>title</th>\n",
       "      <th>director</th>\n",
       "      <th>cast</th>\n",
       "      <th>country</th>\n",
       "      <th>date_added</th>\n",
       "      <th>release_year</th>\n",
       "      <th>rating</th>\n",
       "      <th>duration</th>\n",
       "      <th>listed_in</th>\n",
       "      <th>description</th>\n",
       "    </tr>\n",
       "  </thead>\n",
       "  <tbody>\n",
       "    <tr>\n",
       "      <th>0</th>\n",
       "      <td>and probably will.\"</td>\n",
       "      <td>None</td>\n",
       "      <td>None</td>\n",
       "      <td>None</td>\n",
       "      <td>None</td>\n",
       "      <td>None</td>\n",
       "      <td>None</td>\n",
       "      <td>None</td>\n",
       "      <td>None</td>\n",
       "      <td>None</td>\n",
       "      <td>None</td>\n",
       "      <td>None</td>\n",
       "    </tr>\n",
       "    <tr>\n",
       "      <th>1</th>\n",
       "      <td>Flying Fortress\"</td>\n",
       "      <td>William Wyler</td>\n",
       "      <td>None</td>\n",
       "      <td>United States</td>\n",
       "      <td>March 31, 2017</td>\n",
       "      <td>1944</td>\n",
       "      <td>TV-PG</td>\n",
       "      <td>40 min</td>\n",
       "      <td>Classic Movies, Documentaries</td>\n",
       "      <td>This documentary centers on the crew of the B-...</td>\n",
       "      <td>None</td>\n",
       "      <td>None</td>\n",
       "    </tr>\n",
       "    <tr>\n",
       "      <th>2</th>\n",
       "      <td>s6274</td>\n",
       "      <td>Movie</td>\n",
       "      <td>\"Behind \"\"The Cove\"\": The Quiet Japanese Speak...</td>\n",
       "      <td>Keiko Yagi</td>\n",
       "      <td>None</td>\n",
       "      <td>Japan, United States</td>\n",
       "      <td>August 25, 2017</td>\n",
       "      <td>2015</td>\n",
       "      <td>TV-14</td>\n",
       "      <td>105 min</td>\n",
       "      <td>Documentaries, International Movies</td>\n",
       "      <td>After a documentary about the Japanese whaling...</td>\n",
       "    </tr>\n",
       "    <tr>\n",
       "      <th>3</th>\n",
       "      <td>s6705</td>\n",
       "      <td>Movie</td>\n",
       "      <td>\"Escape from the \"\"Liberty\"\" Cinema\"</td>\n",
       "      <td>Wojciech Marczewski</td>\n",
       "      <td>Janusz Gajos, Zbigniew Zamachowski, Teresa Mar...</td>\n",
       "      <td>Poland</td>\n",
       "      <td>October 1, 2019</td>\n",
       "      <td>1990</td>\n",
       "      <td>TV-MA</td>\n",
       "      <td>88 min</td>\n",
       "      <td>Comedies, Dramas, Independent Movies</td>\n",
       "      <td>Artistic rebellion ignites at the movies when ...</td>\n",
       "    </tr>\n",
       "    <tr>\n",
       "      <th>4</th>\n",
       "      <td>s4154</td>\n",
       "      <td>Movie</td>\n",
       "      <td>\"Gabriel \"\"Fluffy\"\" Iglesias: One Show Fits All\"</td>\n",
       "      <td>Manny Rodriguez</td>\n",
       "      <td>Gabriel Iglesias</td>\n",
       "      <td>None</td>\n",
       "      <td>January 29, 2019</td>\n",
       "      <td>2019</td>\n",
       "      <td>TV-14</td>\n",
       "      <td>91 min</td>\n",
       "      <td>Stand-Up Comedy</td>\n",
       "      <td>\"Gabriel \"\"Fluffy\"\" Iglesias discusses his tee...</td>\n",
       "    </tr>\n",
       "    <tr>\n",
       "      <th>...</th>\n",
       "      <td>...</td>\n",
       "      <td>...</td>\n",
       "      <td>...</td>\n",
       "      <td>...</td>\n",
       "      <td>...</td>\n",
       "      <td>...</td>\n",
       "      <td>...</td>\n",
       "      <td>...</td>\n",
       "      <td>...</td>\n",
       "      <td>...</td>\n",
       "      <td>...</td>\n",
       "      <td>...</td>\n",
       "    </tr>\n",
       "    <tr>\n",
       "      <th>8804</th>\n",
       "      <td>s6178</td>\n",
       "      <td>TV Show</td>\n",
       "      <td>忍者ハットリくん</td>\n",
       "      <td>None</td>\n",
       "      <td>None</td>\n",
       "      <td>Japan</td>\n",
       "      <td>December 23, 2018</td>\n",
       "      <td>2012</td>\n",
       "      <td>TV-Y7</td>\n",
       "      <td>2 Seasons</td>\n",
       "      <td>Anime Series, Kids' TV</td>\n",
       "      <td>Hailing from the mountains of Iga, Kanzo Hatto...</td>\n",
       "    </tr>\n",
       "    <tr>\n",
       "      <th>8805</th>\n",
       "      <td>s4915</td>\n",
       "      <td>TV Show</td>\n",
       "      <td>海的儿子</td>\n",
       "      <td>None</td>\n",
       "      <td>Li Nanxing, Christopher Lee, Jesseca Liu, Appl...</td>\n",
       "      <td>None</td>\n",
       "      <td>April 27, 2018</td>\n",
       "      <td>2016</td>\n",
       "      <td>TV-14</td>\n",
       "      <td>1 Season</td>\n",
       "      <td>International TV Shows, TV Dramas</td>\n",
       "      <td>Two brothers start a new life in Singapore, wh...</td>\n",
       "    </tr>\n",
       "    <tr>\n",
       "      <th>8806</th>\n",
       "      <td>s7102</td>\n",
       "      <td>TV Show</td>\n",
       "      <td>마녀사냥</td>\n",
       "      <td>None</td>\n",
       "      <td>Si-kyung Sung, Se-yoon Yoo, Dong-yup Shin, Ji-...</td>\n",
       "      <td>South Korea</td>\n",
       "      <td>February 19, 2018</td>\n",
       "      <td>2015</td>\n",
       "      <td>TV-MA</td>\n",
       "      <td>1 Season</td>\n",
       "      <td>International TV Shows, Korean TV Shows, Stand...</td>\n",
       "      <td>Four Korean celebrity men and guest stars of b...</td>\n",
       "    </tr>\n",
       "    <tr>\n",
       "      <th>8807</th>\n",
       "      <td>s5023</td>\n",
       "      <td>Movie</td>\n",
       "      <td>반드시 잡는다</td>\n",
       "      <td>Hong-seon Kim</td>\n",
       "      <td>Baek Yoon-sik</td>\n",
       "      <td>South Korea</td>\n",
       "      <td>February 28, 2018</td>\n",
       "      <td>2017</td>\n",
       "      <td>TV-MA</td>\n",
       "      <td>110 min</td>\n",
       "      <td>Dramas, International Movies, Thrillers</td>\n",
       "      <td>After people in his town start turning up dead...</td>\n",
       "    </tr>\n",
       "    <tr>\n",
       "      <th>8808</th>\n",
       "      <td>s7109</td>\n",
       "      <td>Movie</td>\n",
       "      <td>최강전사 미니특공대 : 영웅의 탄생</td>\n",
       "      <td>Young Jun Lee</td>\n",
       "      <td>Um Sang-hyun, Yang Jeong-hwa, Jeon Tae-yeol, S...</td>\n",
       "      <td>None</td>\n",
       "      <td>September 1, 2018</td>\n",
       "      <td>2018</td>\n",
       "      <td>TV-Y7</td>\n",
       "      <td>68 min</td>\n",
       "      <td>Children &amp; Family Movies</td>\n",
       "      <td>Miniforce, a special task force of elite range...</td>\n",
       "    </tr>\n",
       "  </tbody>\n",
       "</table>\n",
       "<p>8809 rows × 12 columns</p>\n",
       "</div>"
      ],
      "text/plain": [
       "                   show_id           type  \\\n",
       "0      and probably will.\"           None   \n",
       "1         Flying Fortress\"  William Wyler   \n",
       "2                    s6274          Movie   \n",
       "3                    s6705          Movie   \n",
       "4                    s4154          Movie   \n",
       "...                    ...            ...   \n",
       "8804                 s6178        TV Show   \n",
       "8805                 s4915        TV Show   \n",
       "8806                 s7102        TV Show   \n",
       "8807                 s5023          Movie   \n",
       "8808                 s7109          Movie   \n",
       "\n",
       "                                                  title             director  \\\n",
       "0                                                  None                 None   \n",
       "1                                                  None        United States   \n",
       "2     \"Behind \"\"The Cove\"\": The Quiet Japanese Speak...           Keiko Yagi   \n",
       "3                  \"Escape from the \"\"Liberty\"\" Cinema\"  Wojciech Marczewski   \n",
       "4      \"Gabriel \"\"Fluffy\"\" Iglesias: One Show Fits All\"      Manny Rodriguez   \n",
       "...                                                 ...                  ...   \n",
       "8804                                           忍者ハットリくん                 None   \n",
       "8805                                               海的儿子                 None   \n",
       "8806                                               마녀사냥                 None   \n",
       "8807                                            반드시 잡는다        Hong-seon Kim   \n",
       "8808                                최강전사 미니특공대 : 영웅의 탄생        Young Jun Lee   \n",
       "\n",
       "                                                   cast               country  \\\n",
       "0                                                  None                  None   \n",
       "1                                        March 31, 2017                  1944   \n",
       "2                                                  None  Japan, United States   \n",
       "3     Janusz Gajos, Zbigniew Zamachowski, Teresa Mar...                Poland   \n",
       "4                                      Gabriel Iglesias                  None   \n",
       "...                                                 ...                   ...   \n",
       "8804                                               None                 Japan   \n",
       "8805  Li Nanxing, Christopher Lee, Jesseca Liu, Appl...                  None   \n",
       "8806  Si-kyung Sung, Se-yoon Yoo, Dong-yup Shin, Ji-...           South Korea   \n",
       "8807                                      Baek Yoon-sik           South Korea   \n",
       "8808  Um Sang-hyun, Yang Jeong-hwa, Jeon Tae-yeol, S...                  None   \n",
       "\n",
       "              date_added release_year                         rating  \\\n",
       "0                   None         None                           None   \n",
       "1                  TV-PG       40 min  Classic Movies, Documentaries   \n",
       "2        August 25, 2017         2015                          TV-14   \n",
       "3        October 1, 2019         1990                          TV-MA   \n",
       "4       January 29, 2019         2019                          TV-14   \n",
       "...                  ...          ...                            ...   \n",
       "8804   December 23, 2018         2012                          TV-Y7   \n",
       "8805      April 27, 2018         2016                          TV-14   \n",
       "8806   February 19, 2018         2015                          TV-MA   \n",
       "8807   February 28, 2018         2017                          TV-MA   \n",
       "8808   September 1, 2018         2018                          TV-Y7   \n",
       "\n",
       "                                               duration  \\\n",
       "0                                                  None   \n",
       "1     This documentary centers on the crew of the B-...   \n",
       "2                                               105 min   \n",
       "3                                                88 min   \n",
       "4                                                91 min   \n",
       "...                                                 ...   \n",
       "8804                                          2 Seasons   \n",
       "8805                                           1 Season   \n",
       "8806                                           1 Season   \n",
       "8807                                            110 min   \n",
       "8808                                             68 min   \n",
       "\n",
       "                                              listed_in  \\\n",
       "0                                                  None   \n",
       "1                                                  None   \n",
       "2                   Documentaries, International Movies   \n",
       "3                  Comedies, Dramas, Independent Movies   \n",
       "4                                       Stand-Up Comedy   \n",
       "...                                                 ...   \n",
       "8804                             Anime Series, Kids' TV   \n",
       "8805                  International TV Shows, TV Dramas   \n",
       "8806  International TV Shows, Korean TV Shows, Stand...   \n",
       "8807            Dramas, International Movies, Thrillers   \n",
       "8808                           Children & Family Movies   \n",
       "\n",
       "                                            description  \n",
       "0                                                  None  \n",
       "1                                                  None  \n",
       "2     After a documentary about the Japanese whaling...  \n",
       "3     Artistic rebellion ignites at the movies when ...  \n",
       "4     \"Gabriel \"\"Fluffy\"\" Iglesias discusses his tee...  \n",
       "...                                                 ...  \n",
       "8804  Hailing from the mountains of Iga, Kanzo Hatto...  \n",
       "8805  Two brothers start a new life in Singapore, wh...  \n",
       "8806  Four Korean celebrity men and guest stars of b...  \n",
       "8807  After people in his town start turning up dead...  \n",
       "8808  Miniforce, a special task force of elite range...  \n",
       "\n",
       "[8809 rows x 12 columns]"
      ]
     },
     "execution_count": 29,
     "metadata": {},
     "output_type": "execute_result"
    }
   ],
   "source": [
    "sorted_netflix_pandas ## show the sorted netflix data "
   ]
  },
  {
   "cell_type": "code",
   "execution_count": 7,
   "id": "animated-christian",
   "metadata": {
    "ExecuteTime": {
     "end_time": "2024-02-01T11:48:57.195766Z",
     "start_time": "2024-02-01T11:48:56.717204Z"
    }
   },
   "outputs": [],
   "source": [
    "## since each show id has a distinct value, will count distinct by the show id released in 2018 \n",
    "\n",
    "distinct_movies_2018 = spark.sql( \"\"\"\n",
    "    SELECT COUNT(DISTINCT show_id) AS distinct_movies_or_shows_in_2018\n",
    "    FROM netflix_table\n",
    "    WHERE release_year = 2018\n",
    "\"\"\")\n"
   ]
  },
  {
   "cell_type": "code",
   "execution_count": 32,
   "id": "sealed-blackberry",
   "metadata": {
    "ExecuteTime": {
     "end_time": "2024-02-01T11:32:47.248288Z",
     "start_time": "2024-02-01T11:32:39.207622Z"
    }
   },
   "outputs": [],
   "source": [
    "pandas_distinct_movies = distinct_movies_2018.toPandas() ## transfering to pandas "
   ]
  },
  {
   "cell_type": "code",
   "execution_count": 26,
   "id": "spanish-prime",
   "metadata": {
    "ExecuteTime": {
     "end_time": "2024-02-01T11:30:01.036019Z",
     "start_time": "2024-02-01T11:30:00.982670Z"
    }
   },
   "outputs": [
    {
     "data": {
      "text/html": [
       "<div>\n",
       "<style scoped>\n",
       "    .dataframe tbody tr th:only-of-type {\n",
       "        vertical-align: middle;\n",
       "    }\n",
       "\n",
       "    .dataframe tbody tr th {\n",
       "        vertical-align: top;\n",
       "    }\n",
       "\n",
       "    .dataframe thead th {\n",
       "        text-align: right;\n",
       "    }\n",
       "</style>\n",
       "<table border=\"1\" class=\"dataframe\">\n",
       "  <thead>\n",
       "    <tr style=\"text-align: right;\">\n",
       "      <th></th>\n",
       "      <th>distinct_movies_or_shows_in_2018</th>\n",
       "    </tr>\n",
       "  </thead>\n",
       "  <tbody>\n",
       "    <tr>\n",
       "      <th>0</th>\n",
       "      <td>1145</td>\n",
       "    </tr>\n",
       "  </tbody>\n",
       "</table>\n",
       "</div>"
      ],
      "text/plain": [
       "   distinct_movies_or_shows_in_2018\n",
       "0                              1145"
      ]
     },
     "execution_count": 26,
     "metadata": {},
     "output_type": "execute_result"
    }
   ],
   "source": [
    "pandas_distinct_movies"
   ]
  },
  {
   "cell_type": "code",
   "execution_count": 16,
   "id": "lucky-nothing",
   "metadata": {
    "ExecuteTime": {
     "end_time": "2024-02-01T12:14:12.758175Z",
     "start_time": "2024-02-01T12:14:12.420574Z"
    }
   },
   "outputs": [],
   "source": [
    "## country that has produced most movies \n",
    "\n",
    "countries_produced_most_movies = spark.sql(\"\"\"\n",
    "    SELECT country, COUNT(*) AS movies_count_by_country\n",
    "    FROM netflix_table\n",
    "    GROUP BY country\n",
    "    ORDER BY movies_count_by_country DESC\n",
    "    LIMIT 1\n",
    "\"\"\")\n"
   ]
  },
  {
   "cell_type": "code",
   "execution_count": 17,
   "id": "usual-consciousness",
   "metadata": {
    "ExecuteTime": {
     "end_time": "2024-02-01T12:14:22.204114Z",
     "start_time": "2024-02-01T12:14:15.166295Z"
    }
   },
   "outputs": [
    {
     "name": "stdout",
     "output_type": "stream",
     "text": [
      "+-------------+-----------------------+\n",
      "|      country|movies_count_by_country|\n",
      "+-------------+-----------------------+\n",
      "|United States|                   2805|\n",
      "+-------------+-----------------------+\n",
      "\n"
     ]
    }
   ],
   "source": [
    "countries_produced_most_movies.show() ## here the united states produced most of the data \n",
    "## since eah row has a unique ID, no need to count by the distinct values "
   ]
  },
  {
   "cell_type": "code",
   "execution_count": 33,
   "id": "legal-edmonton",
   "metadata": {
    "ExecuteTime": {
     "end_time": "2024-02-01T12:21:33.746381Z",
     "start_time": "2024-02-01T12:21:33.585731Z"
    }
   },
   "outputs": [],
   "source": [
    "### showing the number of movies that lasted 1 season \n",
    "TVshows_lasted_for_season=spark.sql(\"\"\"SELECT COUNT (*) FROM netflix_table\n",
    "                                    WHERE duration='1 Season' \"\"\")\n",
    "\n"
   ]
  },
  {
   "cell_type": "code",
   "execution_count": 34,
   "id": "closed-container",
   "metadata": {
    "ExecuteTime": {
     "end_time": "2024-02-01T12:21:36.678629Z",
     "start_time": "2024-02-01T12:21:35.893949Z"
    }
   },
   "outputs": [
    {
     "name": "stdout",
     "output_type": "stream",
     "text": [
      "+--------+\n",
      "|count(1)|\n",
      "+--------+\n",
      "|    1791|\n",
      "+--------+\n",
      "\n"
     ]
    }
   ],
   "source": [
    "TVshows_lasted_for_season.show() ## showing the number of movies lasted for 1 season "
   ]
  },
  {
   "cell_type": "code",
   "execution_count": 35,
   "id": "mysterious-brooklyn",
   "metadata": {
    "ExecuteTime": {
     "end_time": "2024-02-01T12:21:44.952272Z",
     "start_time": "2024-02-01T12:21:44.628902Z"
    }
   },
   "outputs": [],
   "source": [
    "## which year had the least number of tv shows produced \n",
    "year_which_have_lowest_producton = spark.sql(\"\"\"\n",
    "SELECT release_year\n",
    "FROM netflix_table\n",
    "WHERE type = 'TV Show'\n",
    "GROUP BY release_year\n",
    "ORDER BY COUNT(*) ASC\n",
    "LIMIT 1\n",
    "\"\"\")\n"
   ]
  },
  {
   "cell_type": "code",
   "execution_count": 12,
   "id": "abstract-spokesman",
   "metadata": {
    "ExecuteTime": {
     "end_time": "2024-02-01T11:52:27.485729Z",
     "start_time": "2024-02-01T11:52:14.945144Z"
    }
   },
   "outputs": [
    {
     "name": "stdout",
     "output_type": "stream",
     "text": [
      "+------------+\n",
      "|release_year|\n",
      "+------------+\n",
      "|        1972|\n",
      "+------------+\n",
      "\n"
     ]
    }
   ],
   "source": [
    "year_which_have_lowest_producton.show()"
   ]
  },
  {
   "cell_type": "code",
   "execution_count": 39,
   "id": "third-white",
   "metadata": {
    "ExecuteTime": {
     "end_time": "2024-02-01T12:23:27.731202Z",
     "start_time": "2024-02-01T12:23:27.638664Z"
    }
   },
   "outputs": [],
   "source": [
    "## when was the earliest release date for a movie in the dataset.\n",
    "\n",
    "earliest_movie_released_year = spark.sql(\"\"\"\n",
    "    SELECT MIN(release_year) AS earliest_release_year\n",
    "    FROM netflix_table\n",
    "    WHERE type = 'Movie'\n",
    "\"\"\")\n"
   ]
  },
  {
   "cell_type": "code",
   "execution_count": 40,
   "id": "compliant-relevance",
   "metadata": {
    "ExecuteTime": {
     "end_time": "2024-02-01T12:23:31.179448Z",
     "start_time": "2024-02-01T12:23:29.808058Z"
    }
   },
   "outputs": [
    {
     "name": "stdout",
     "output_type": "stream",
     "text": [
      "+---------------------+\n",
      "|earliest_release_year|\n",
      "+---------------------+\n",
      "|       Charles Rocket|\n",
      "+---------------------+\n",
      "\n"
     ]
    }
   ],
   "source": [
    "earliest_movie_released_year.show()"
   ]
  },
  {
   "cell_type": "code",
   "execution_count": null,
   "id": "variable-vitamin",
   "metadata": {},
   "outputs": [],
   "source": []
  },
  {
   "cell_type": "code",
   "execution_count": null,
   "id": "divided-manchester",
   "metadata": {},
   "outputs": [],
   "source": []
  }
 ],
 "metadata": {
  "kernelspec": {
   "display_name": "Python 3",
   "language": "python",
   "name": "python3"
  },
  "language_info": {
   "codemirror_mode": {
    "name": "ipython",
    "version": 3
   },
   "file_extension": ".py",
   "mimetype": "text/x-python",
   "name": "python",
   "nbconvert_exporter": "python",
   "pygments_lexer": "ipython3",
   "version": "3.8.5"
  },
  "toc": {
   "base_numbering": 1,
   "nav_menu": {},
   "number_sections": true,
   "sideBar": true,
   "skip_h1_title": false,
   "title_cell": "Table of Contents",
   "title_sidebar": "Contents",
   "toc_cell": false,
   "toc_position": {},
   "toc_section_display": true,
   "toc_window_display": false
  }
 },
 "nbformat": 4,
 "nbformat_minor": 5
}
